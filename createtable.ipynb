{
 "cells": [
  {
   "cell_type": "code",
   "execution_count": null,
   "metadata": {},
   "outputs": [],
   "source": [
    "import os\n",
    "from getpass import getpass\n",
    "\n",
    "import dotenv\n",
    "from sqlalchemy import create_engine, engine\n",
    "\n",
    "dotenv.load_dotenv()\n",
    "\n",
    "# engine = create_engine('postgresql://localhost/example')\n",
    "def connect_unix_socket() -> engine.base.Engine:\n",
    "    \"\"\"Initializes a Unix socket connection pool for a Cloud SQL instance of Postgres.\"\"\"\n",
    "    # Note: Saving credentials in environment variables is convenient, but not\n",
    "    # secure - consider a more secure solution such as\n",
    "    # Cloud Secret Manager (https://cloud.google.com/secret-manager) to help\n",
    "    # keep secrets safe.\n",
    "    db_user = os.environ[\"DB_USER\"]  # e.g. 'my-database-user'\n",
    "    db_pass = getpass('DB_PASS: ')  # e.g. 'my-database-password'\n",
    "    db_name = os.environ[\"DB_NAME\"]  # e.g. 'my-database'\n",
    "    unix_socket_path = os.environ[\"INSTANCE_UNIX_SOCKET\"]  # e.g. '/cloudsql/project:region:instance'\n",
    "\n",
    "    pool = create_engine(\n",
    "        # Equivalent URL:\n",
    "        # postgresql+pg8000://<db_user>:<db_pass>@/<db_name>\n",
    "        #                         ?unix_sock=<INSTANCE_UNIX_SOCKET>/.s.PGSQL.5432\n",
    "        # Note: Some drivers require the `unix_sock` query parameter to use a different key.\n",
    "        # For example, 'psycopg2' uses the path set to `host` in order to connect successfully.\n",
    "        engine.url.URL.create(\n",
    "            drivername=\"postgresql+psycopg2\",\n",
    "            username=db_user,\n",
    "            password=db_pass,\n",
    "            database=db_name,\n",
    "            query={\"host\": unix_socket_path},\n",
    "        ),\n",
    "        # ...\n",
    "    )\n",
    "    return pool\n"
   ]
  },
  {
   "cell_type": "code",
   "execution_count": null,
   "metadata": {},
   "outputs": [],
   "source": [
    "from sqlalchemy.orm import sessionmaker\n",
    "\n",
    "engine = connect_unix_socket()\n",
    "Session = sessionmaker(bind=engine)"
   ]
  },
  {
   "cell_type": "code",
   "execution_count": null,
   "metadata": {},
   "outputs": [],
   "source": [
    "from sqlalchemy.orm import declarative_base\n",
    "\n",
    "Base = declarative_base()"
   ]
  },
  {
   "cell_type": "code",
   "execution_count": null,
   "metadata": {},
   "outputs": [],
   "source": [
    "from sqlalchemy import Column, Integer, String\n",
    "\n",
    "\n",
    "class Records(Base):\n",
    "    __tablename__ = \"records\"\n",
    "\n",
    "    id = Column(Integer, primary_key=True, autoincrement=True, nullable=False)\n",
    "    name = Column(String(255))\n",
    "    # Add more columns as needed"
   ]
  },
  {
   "cell_type": "code",
   "execution_count": null,
   "metadata": {},
   "outputs": [],
   "source": [
    "engine.url"
   ]
  },
  {
   "cell_type": "code",
   "execution_count": null,
   "metadata": {},
   "outputs": [],
   "source": [
    "Base.metadata.create_all(engine)"
   ]
  }
 ],
 "metadata": {
  "kernelspec": {
   "display_name": "venv",
   "language": "python",
   "name": "python3"
  },
  "language_info": {
   "codemirror_mode": {
    "name": "ipython",
    "version": 3
   },
   "file_extension": ".py",
   "mimetype": "text/x-python",
   "name": "python",
   "nbconvert_exporter": "python",
   "pygments_lexer": "ipython3",
   "version": "3.9.16"
  },
  "orig_nbformat": 4
 },
 "nbformat": 4,
 "nbformat_minor": 2
}
